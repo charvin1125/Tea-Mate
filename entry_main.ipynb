{
 "cells": [
  {
   "cell_type": "code",
   "execution_count": null,
   "metadata": {},
   "outputs": [],
   "source": [
    "from flask import Flask, request, jsonify\n",
    "from api_calls import get_time_info, get_weather_info\n",
    "from logic import recommend_tea\n",
    "\n",
    "app = Flask(__name__)\n",
    "\n",
    "@app.route(\"/recommend\", methods=[\"POST\"])\n",
    "def recommend():\n",
    "    # Get input from request\n",
    "    data = request.get_json()\n",
    "    mood = data.get(\"mood\", \"Relaxed\")\n",
    "    latitude = data.get(\"latitude\", 0.0)\n",
    "    longitude = data.get(\"longitude\", 0.0)\n",
    "    \n",
    "    # Fetch time and weather data\n",
    "    time_of_day = get_time_info()\n",
    "    temperature = get_weather_info(latitude, longitude)\n",
    "    \n",
    "    # Generate recommendation\n",
    "    result = recommend_tea(mood, temperature, time_of_day)\n",
    "    return jsonify(result)\n",
    "\n",
    "if __name__ == \"__main__\":\n",
    "    app.run(debug=True)\n"
   ]
  }
 ],
 "metadata": {
  "language_info": {
   "name": "python"
  }
 },
 "nbformat": 4,
 "nbformat_minor": 2
}

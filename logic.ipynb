{
 "cells": [
  {
   "cell_type": "code",
   "execution_count": null,
   "metadata": {},
   "outputs": [],
   "source": [
    "import pandas as pd\n",
    "import random\n",
    "\n",
    "def load_tea_data():\n",
    "    tea_data = pd.read_csv(\"tea_data.csv\")\n",
    "    tea_facts = pd.read_csv(\"tea_facts.csv\")\n",
    "    return tea_data, tea_facts\n",
    "\n",
    "def recommend_tea(mood, temperature, time_of_day):\n",
    "    tea_data, tea_facts = load_tea_data()\n",
    "    \n",
    "    # Determine weather category from temperature\n",
    "    weather = \"Cold\" if temperature < 20 else \"Hot\"\n",
    "    \n",
    "    # Filter teas based on input parameters\n",
    "    recommendations = tea_data[\n",
    "        (tea_data[\"mood\"].str.contains(mood, case=False)) &\n",
    "        (tea_data[\"weather\"].str.contains(weather, case=False) | tea_data[\"weather\"] == \"Any\") &\n",
    "        (tea_data[\"time\"].str.contains(time_of_day, case=False) | tea_data[\"time\"] == \"Any\")\n",
    "    ]\n",
    "    \n",
    "    if not recommendations.empty:\n",
    "        tea = recommendations.sample(1).iloc[0]  # Randomly pick one tea\n",
    "        fact = tea_facts[tea_facts[\"name\"] == tea[\"name\"]][\"fact\"].values[0]\n",
    "        return {\n",
    "            \"name\": tea[\"name\"],\n",
    "            \"brewing_time\": tea[\"brewing_time\"],\n",
    "            \"fact\": fact\n",
    "        }\n",
    "    else:\n",
    "        return {\"error\": \"No tea matches your criteria.\"}\n"
   ]
  },
  {
   "cell_type": "code",
   "execution_count": null,
   "metadata": {},
   "outputs": [],
   "source": []
  }
 ],
 "metadata": {
  "language_info": {
   "name": "python"
  }
 },
 "nbformat": 4,
 "nbformat_minor": 2
}

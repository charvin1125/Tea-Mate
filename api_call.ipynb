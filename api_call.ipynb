{
 "cells": [
  {
   "cell_type": "code",
   "execution_count": null,
   "metadata": {},
   "outputs": [],
   "source": [
    "import requests\n",
    "\n",
    "def get_time_info():\n",
    "    try:\n",
    "        response = requests.get(\"http://worldtimeapi.org/api/ip\")\n",
    "        if response.status_code == 200:\n",
    "            data = response.json()\n",
    "            datetime = data[\"datetime\"]\n",
    "            return datetime.split(\"T\")[1][:5]  # Extract HH:MM\n",
    "        else:\n",
    "            return \"00:00\"\n",
    "    except Exception as e:\n",
    "        return \"Error fetching time\"\n",
    "\n",
    "def get_weather_info(latitude, longitude):\n",
    "    try:\n",
    "        url = f\"https://api.open-meteo.com/v1/forecast?latitude={latitude}&longitude={longitude}&current_weather=true\"\n",
    "        response = requests.get(url)\n",
    "        if response.status_code == 200:\n",
    "            data = response.json()\n",
    "            current_weather = data.get(\"current_weather\", {})\n",
    "            return current_weather.get(\"temperature\", \"N/A\")\n",
    "        else:\n",
    "            return \"N/A\"\n",
    "    except Exception as e:\n",
    "        return \"Error fetching weather\"\n"
   ]
  }
 ],
 "metadata": {
  "language_info": {
   "name": "python"
  }
 },
 "nbformat": 4,
 "nbformat_minor": 2
}
